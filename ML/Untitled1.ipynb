{
  "nbformat": 4,
  "nbformat_minor": 0,
  "metadata": {
    "colab": {
      "name": "Untitled1.ipynb",
      "provenance": [],
      "authorship_tag": "ABX9TyOxWivD+GzujPVnOM0dnGZy"
    },
    "kernelspec": {
      "name": "python3",
      "display_name": "Python 3"
    }
  },
  "cells": [
    {
      "cell_type": "code",
      "metadata": {
        "id": "pOKrqn36IkLu"
      },
      "source": [
        "import torch"
      ],
      "execution_count": 2,
      "outputs": []
    }
  ]
}