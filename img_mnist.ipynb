{
  "nbformat": 4,
  "nbformat_minor": 0,
  "metadata": {
    "colab": {
      "name": "Untitled1.ipynb",
      "provenance": [],
      "authorship_tag": "ABX9TyM/7yu21gyKaSX6SWXnHu0H"
    },
    "kernelspec": {
      "name": "python3",
      "display_name": "Python 3"
    },
    "accelerator": "GPU",
    "widgets": {
      "application/vnd.jupyter.widget-state+json": {
        "5a05003a88554d99b97f03e3c57b6af4": {
          "model_module": "@jupyter-widgets/controls",
          "model_name": "HBoxModel",
          "state": {
            "_view_name": "HBoxView",
            "_dom_classes": [],
            "_model_name": "HBoxModel",
            "_view_module": "@jupyter-widgets/controls",
            "_model_module_version": "1.5.0",
            "_view_count": null,
            "_view_module_version": "1.5.0",
            "box_style": "",
            "layout": "IPY_MODEL_531f407519eb4bdf9730910f91a6d47f",
            "_model_module": "@jupyter-widgets/controls",
            "children": [
              "IPY_MODEL_d91c2ddac885468f943a001611b32774",
              "IPY_MODEL_f441bd62811a4f51a469185a48846a6b"
            ]
          }
        },
        "531f407519eb4bdf9730910f91a6d47f": {
          "model_module": "@jupyter-widgets/base",
          "model_name": "LayoutModel",
          "state": {
            "_view_name": "LayoutView",
            "grid_template_rows": null,
            "right": null,
            "justify_content": null,
            "_view_module": "@jupyter-widgets/base",
            "overflow": null,
            "_model_module_version": "1.2.0",
            "_view_count": null,
            "flex_flow": null,
            "width": null,
            "min_width": null,
            "border": null,
            "align_items": null,
            "bottom": null,
            "_model_module": "@jupyter-widgets/base",
            "top": null,
            "grid_column": null,
            "overflow_y": null,
            "overflow_x": null,
            "grid_auto_flow": null,
            "grid_area": null,
            "grid_template_columns": null,
            "flex": null,
            "_model_name": "LayoutModel",
            "justify_items": null,
            "grid_row": null,
            "max_height": null,
            "align_content": null,
            "visibility": null,
            "align_self": null,
            "height": null,
            "min_height": null,
            "padding": null,
            "grid_auto_rows": null,
            "grid_gap": null,
            "max_width": null,
            "order": null,
            "_view_module_version": "1.2.0",
            "grid_template_areas": null,
            "object_position": null,
            "object_fit": null,
            "grid_auto_columns": null,
            "margin": null,
            "display": null,
            "left": null
          }
        },
        "d91c2ddac885468f943a001611b32774": {
          "model_module": "@jupyter-widgets/controls",
          "model_name": "FloatProgressModel",
          "state": {
            "_view_name": "ProgressView",
            "style": "IPY_MODEL_d37f92848f42423cad2760dada6602c7",
            "_dom_classes": [],
            "description": "",
            "_model_name": "FloatProgressModel",
            "bar_style": "info",
            "max": 1,
            "_view_module": "@jupyter-widgets/controls",
            "_model_module_version": "1.5.0",
            "value": 1,
            "_view_count": null,
            "_view_module_version": "1.5.0",
            "orientation": "horizontal",
            "min": 0,
            "description_tooltip": null,
            "_model_module": "@jupyter-widgets/controls",
            "layout": "IPY_MODEL_2ac58b84eb734e969c03029fa8a97763"
          }
        },
        "f441bd62811a4f51a469185a48846a6b": {
          "model_module": "@jupyter-widgets/controls",
          "model_name": "HTMLModel",
          "state": {
            "_view_name": "HTMLView",
            "style": "IPY_MODEL_d67540eceee24fa4b5840bf5dd8fe765",
            "_dom_classes": [],
            "description": "",
            "_model_name": "HTMLModel",
            "placeholder": "​",
            "_view_module": "@jupyter-widgets/controls",
            "_model_module_version": "1.5.0",
            "value": " 170500096/? [00:20&lt;00:00, 52452158.30it/s]",
            "_view_count": null,
            "_view_module_version": "1.5.0",
            "description_tooltip": null,
            "_model_module": "@jupyter-widgets/controls",
            "layout": "IPY_MODEL_11e5fffda31249e182be69e459bc84ee"
          }
        },
        "d37f92848f42423cad2760dada6602c7": {
          "model_module": "@jupyter-widgets/controls",
          "model_name": "ProgressStyleModel",
          "state": {
            "_view_name": "StyleView",
            "_model_name": "ProgressStyleModel",
            "description_width": "initial",
            "_view_module": "@jupyter-widgets/base",
            "_model_module_version": "1.5.0",
            "_view_count": null,
            "_view_module_version": "1.2.0",
            "bar_color": null,
            "_model_module": "@jupyter-widgets/controls"
          }
        },
        "2ac58b84eb734e969c03029fa8a97763": {
          "model_module": "@jupyter-widgets/base",
          "model_name": "LayoutModel",
          "state": {
            "_view_name": "LayoutView",
            "grid_template_rows": null,
            "right": null,
            "justify_content": null,
            "_view_module": "@jupyter-widgets/base",
            "overflow": null,
            "_model_module_version": "1.2.0",
            "_view_count": null,
            "flex_flow": null,
            "width": null,
            "min_width": null,
            "border": null,
            "align_items": null,
            "bottom": null,
            "_model_module": "@jupyter-widgets/base",
            "top": null,
            "grid_column": null,
            "overflow_y": null,
            "overflow_x": null,
            "grid_auto_flow": null,
            "grid_area": null,
            "grid_template_columns": null,
            "flex": null,
            "_model_name": "LayoutModel",
            "justify_items": null,
            "grid_row": null,
            "max_height": null,
            "align_content": null,
            "visibility": null,
            "align_self": null,
            "height": null,
            "min_height": null,
            "padding": null,
            "grid_auto_rows": null,
            "grid_gap": null,
            "max_width": null,
            "order": null,
            "_view_module_version": "1.2.0",
            "grid_template_areas": null,
            "object_position": null,
            "object_fit": null,
            "grid_auto_columns": null,
            "margin": null,
            "display": null,
            "left": null
          }
        },
        "d67540eceee24fa4b5840bf5dd8fe765": {
          "model_module": "@jupyter-widgets/controls",
          "model_name": "DescriptionStyleModel",
          "state": {
            "_view_name": "StyleView",
            "_model_name": "DescriptionStyleModel",
            "description_width": "",
            "_view_module": "@jupyter-widgets/base",
            "_model_module_version": "1.5.0",
            "_view_count": null,
            "_view_module_version": "1.2.0",
            "_model_module": "@jupyter-widgets/controls"
          }
        },
        "11e5fffda31249e182be69e459bc84ee": {
          "model_module": "@jupyter-widgets/base",
          "model_name": "LayoutModel",
          "state": {
            "_view_name": "LayoutView",
            "grid_template_rows": null,
            "right": null,
            "justify_content": null,
            "_view_module": "@jupyter-widgets/base",
            "overflow": null,
            "_model_module_version": "1.2.0",
            "_view_count": null,
            "flex_flow": null,
            "width": null,
            "min_width": null,
            "border": null,
            "align_items": null,
            "bottom": null,
            "_model_module": "@jupyter-widgets/base",
            "top": null,
            "grid_column": null,
            "overflow_y": null,
            "overflow_x": null,
            "grid_auto_flow": null,
            "grid_area": null,
            "grid_template_columns": null,
            "flex": null,
            "_model_name": "LayoutModel",
            "justify_items": null,
            "grid_row": null,
            "max_height": null,
            "align_content": null,
            "visibility": null,
            "align_self": null,
            "height": null,
            "min_height": null,
            "padding": null,
            "grid_auto_rows": null,
            "grid_gap": null,
            "max_width": null,
            "order": null,
            "_view_module_version": "1.2.0",
            "grid_template_areas": null,
            "object_position": null,
            "object_fit": null,
            "grid_auto_columns": null,
            "margin": null,
            "display": null,
            "left": null
          }
        }
      }
    }
  },
  "cells": [
    {
      "cell_type": "code",
      "metadata": {
        "id": "pOKrqn36IkLu"
      },
      "source": [
        "import torch\r\n",
        "import torchvision\r\n",
        "import torchvision.transforms as transforms"
      ],
      "execution_count": 2,
      "outputs": []
    },
    {
      "cell_type": "code",
      "metadata": {
        "id": "StboYoGxRlDa"
      },
      "source": [
        ""
      ],
      "execution_count": null,
      "outputs": []
    },
    {
      "cell_type": "code",
      "metadata": {
        "colab": {
          "base_uri": "https://localhost:8080/",
          "height": 103,
          "referenced_widgets": [
            "5a05003a88554d99b97f03e3c57b6af4",
            "531f407519eb4bdf9730910f91a6d47f",
            "d91c2ddac885468f943a001611b32774",
            "f441bd62811a4f51a469185a48846a6b",
            "d37f92848f42423cad2760dada6602c7",
            "2ac58b84eb734e969c03029fa8a97763",
            "d67540eceee24fa4b5840bf5dd8fe765",
            "11e5fffda31249e182be69e459bc84ee"
          ]
        },
        "id": "U66LiaRfSS3r",
        "outputId": "0c9f09f8-bccd-40d5-b093-e946f46ff13e"
      },
      "source": [
        "transform = transforms.Compose(\r\n",
        "    [transforms.ToTensor(),\r\n",
        "     transforms.Normalize((0.5, 0.5, 0.5), (0.5, 0.5, 0.5))])\r\n",
        "\r\n",
        "trainset = torchvision.datasets.CIFAR10(root='./data', train=True,\r\n",
        "                                        download=True, transform=transform)\r\n",
        "trainloader = torch.utils.data.DataLoader(trainset, batch_size=4,\r\n",
        "                                          shuffle=True, num_workers=2)\r\n",
        "\r\n",
        "testset = torchvision.datasets.CIFAR10(root='./data', train=False,\r\n",
        "                                       download=True, transform=transform)\r\n",
        "testloader = torch.utils.data.DataLoader(testset, batch_size=4,\r\n",
        "                                         shuffle=False, num_workers=2)\r\n",
        "\r\n",
        "classes = ('plane', 'car', 'bird', 'cat',\r\n",
        "           'deer', 'dog', 'frog', 'horse', 'ship', 'truck')"
      ],
      "execution_count": 3,
      "outputs": [
        {
          "output_type": "stream",
          "text": [
            "Downloading https://www.cs.toronto.edu/~kriz/cifar-10-python.tar.gz to ./data/cifar-10-python.tar.gz\n"
          ],
          "name": "stdout"
        },
        {
          "output_type": "display_data",
          "data": {
            "application/vnd.jupyter.widget-view+json": {
              "model_id": "5a05003a88554d99b97f03e3c57b6af4",
              "version_minor": 0,
              "version_major": 2
            },
            "text/plain": [
              "HBox(children=(FloatProgress(value=1.0, bar_style='info', max=1.0), HTML(value='')))"
            ]
          },
          "metadata": {
            "tags": []
          }
        },
        {
          "output_type": "stream",
          "text": [
            "Extracting ./data/cifar-10-python.tar.gz to ./data\n",
            "Files already downloaded and verified\n"
          ],
          "name": "stdout"
        }
      ]
    },
    {
      "cell_type": "code",
      "metadata": {
        "colab": {
          "base_uri": "https://localhost:8080/",
          "height": 156
        },
        "id": "gpPtyvk-Mj4o",
        "outputId": "3db209c5-9dca-499b-cfc0-55bcc14c8385"
      },
      "source": [
        "import matplotlib.pyplot as plt\r\n",
        "import numpy as np\r\n",
        "\r\n",
        "# 이미지를 보여주기 위한 함수\r\n",
        "\r\n",
        "def imshow(img):\r\n",
        "    img = img / 2 + 0.5     # unnormalize\r\n",
        "    npimg = img.numpy()\r\n",
        "    plt.imshow(np.transpose(npimg, (1, 2, 0)))\r\n",
        "    plt.show()\r\n",
        "\r\n",
        "\r\n",
        "# 학습용 이미지를 무작위로 가져오기\r\n",
        "dataiter = iter(trainloader)\r\n",
        "images, labels = dataiter.next()\r\n",
        "\r\n",
        "# 이미지 보여주기\r\n",
        "imshow(torchvision.utils.make_grid(images))\r\n",
        "# 정답(label) 출력\r\n",
        "print(' '.join('%5s' % classes[labels[j]] for j in range(4)))"
      ],
      "execution_count": 5,
      "outputs": [
        {
          "output_type": "display_data",
          "data": {
            "image/png": "[encoded data removed]",
            "text/plain": [
              "<Figure size 432x288 with 1 Axes>"
            ]
          },
          "metadata": {
            "tags": [],
            "needs_background": "light"
          }
        },
        {
          "output_type": "stream",
          "text": [
            " ship  deer truck truck\n"
          ],
          "name": "stdout"
        }
      ]
    },
    {
      "cell_type": "code",
      "metadata": {
        "id": "v1_E8jo2ShHQ"
      },
      "source": [
        "import torch.nn as nn\r\n",
        "import torch.nn.functional as F\r\n",
        "\r\n",
        "\r\n",
        "class Net(nn.Module):\r\n",
        "    def __init__(self):\r\n",
        "        super(Net, self).__init__()\r\n",
        "        self.conv1 = nn.Conv2d(3, 6, 5)\r\n",
        "        self.pool = nn.MaxPool2d(2, 2)\r\n",
        "        self.conv2 = nn.Conv2d(6, 16, 5)\r\n",
        "        self.fc1 = nn.Linear(16 * 5 * 5, 120)\r\n",
        "        self.fc2 = nn.Linear(120, 84)\r\n",
        "        self.fc3 = nn.Linear(84, 10)\r\n",
        "\r\n",
        "    def forward(self, x):\r\n",
        "        x = self.pool(F.relu(self.conv1(x)))\r\n",
        "        x = self.pool(F.relu(self.conv2(x)))\r\n",
        "        x = x.view(-1, 16 * 5 * 5)\r\n",
        "        x = F.relu(self.fc1(x))\r\n",
        "        x = F.relu(self.fc2(x))\r\n",
        "        x = self.fc3(x)\r\n",
        "        return x\r\n",
        "\r\n",
        "\r\n",
        "net = Net()"
      ],
      "execution_count": 6,
      "outputs": []
    },
    {
      "cell_type": "code",
      "metadata": {
        "id": "kfqjx0R7ShN7"
      },
      "source": [
        "import torch.optim as optim\r\n",
        "\r\n",
        "criterion = nn.CrossEntropyLoss()\r\n",
        "optimizer = optim.SGD(net.parameters(), lr=0.001, momentum=0.9)\r\n"
      ],
      "execution_count": 8,
      "outputs": []
    },
    {
      "cell_type": "code",
      "metadata": {
        "colab": {
          "base_uri": "https://localhost:8080/"
        },
        "id": "ydJW8763T0HE",
        "outputId": "a933c756-2b24-4922-a2de-e609d2041e33"
      },
      "source": [
        ""
      ],
      "execution_count": 10,
      "outputs": [
        {
          "output_type": "execute_result",
          "data": {
            "text/plain": [
              "50000"
            ]
          },
          "metadata": {
            "tags": []
          },
          "execution_count": 10
        }
      ]
    },
    {
      "cell_type": "code",
      "metadata": {
        "colab": {
          "base_uri": "https://localhost:8080/"
        },
        "id": "0r0m7qEVTIRo",
        "outputId": "b1e5766d-fc92-4706-d625-48c7a397f368"
      },
      "source": [
        "for epoch in range(30):   # 데이터셋을 수차례 반복합니다.\r\n",
        "\r\n",
        "    running_loss = 0.0\r\n",
        "    for i, data in enumerate(trainloader, 0):\r\n",
        "        # [inputs, labels]의 목록인 data로부터 입력을 받은 후;\r\n",
        "        inputs, labels = data\r\n",
        "\r\n",
        "        # 변화도(Gradient) 매개변수를 0으로 만들고\r\n",
        "        optimizer.zero_grad()\r\n",
        "\r\n",
        "        # 순전파 + 역전파 + 최적화를 한 후\r\n",
        "        outputs = net(inputs)\r\n",
        "        loss = criterion(outputs, labels)\r\n",
        "        loss.backward()\r\n",
        "        optimizer.step()\r\n",
        "\r\n",
        "        # 통계를 출력합니다.\r\n",
        "        running_loss += loss.item()\r\n",
        "        if i % 2000 == 1999:    # print every 2000 mini-batches\r\n",
        "            print('[%d, %5d] loss: %.3f' %\r\n",
        "                  (epoch + 1, i + 1, running_loss / 2000))\r\n",
        "            running_loss = 0.0\r\n",
        "\r\n",
        "print('Finished Training')"
      ],
      "execution_count": 11,
      "outputs": [
        {
          "output_type": "stream",
          "text": [
            "[1,  2000] loss: 2.231\n",
            "[1,  4000] loss: 1.899\n",
            "[1,  6000] loss: 1.712\n",
            "[1,  8000] loss: 1.578\n",
            "[1, 10000] loss: 1.529\n",
            "[1, 12000] loss: 1.491\n",
            "[2,  2000] loss: 1.412\n",
            "[2,  4000] loss: 1.389\n",
            "[2,  6000] loss: 1.356\n",
            "[2,  8000] loss: 1.336\n",
            "[2, 10000] loss: 1.292\n",
            "[2, 12000] loss: 1.307\n",
            "[3,  2000] loss: 1.236\n",
            "[3,  4000] loss: 1.222\n",
            "[3,  6000] loss: 1.205\n",
            "[3,  8000] loss: 1.207\n",
            "[3, 10000] loss: 1.201\n",
            "[3, 12000] loss: 1.180\n",
            "[4,  2000] loss: 1.101\n",
            "[4,  4000] loss: 1.111\n",
            "[4,  6000] loss: 1.135\n",
            "[4,  8000] loss: 1.100\n",
            "[4, 10000] loss: 1.089\n",
            "[4, 12000] loss: 1.113\n",
            "[5,  2000] loss: 1.018\n",
            "[5,  4000] loss: 1.043\n",
            "[5,  6000] loss: 1.043\n",
            "[5,  8000] loss: 1.059\n",
            "[5, 10000] loss: 1.027\n",
            "[5, 12000] loss: 1.039\n",
            "[6,  2000] loss: 0.967\n",
            "[6,  4000] loss: 0.978\n",
            "[6,  6000] loss: 0.968\n",
            "[6,  8000] loss: 0.999\n",
            "[6, 10000] loss: 0.976\n",
            "[6, 12000] loss: 1.015\n",
            "[7,  2000] loss: 0.904\n",
            "[7,  4000] loss: 0.915\n",
            "[7,  6000] loss: 0.954\n",
            "[7,  8000] loss: 0.933\n",
            "[7, 10000] loss: 0.977\n",
            "[7, 12000] loss: 0.959\n",
            "[8,  2000] loss: 0.862\n",
            "[8,  4000] loss: 0.883\n",
            "[8,  6000] loss: 0.900\n",
            "[8,  8000] loss: 0.909\n",
            "[8, 10000] loss: 0.917\n",
            "[8, 12000] loss: 0.927\n",
            "[9,  2000] loss: 0.818\n",
            "[9,  4000] loss: 0.848\n",
            "[9,  6000] loss: 0.878\n",
            "[9,  8000] loss: 0.883\n",
            "[9, 10000] loss: 0.884\n",
            "[9, 12000] loss: 0.889\n",
            "[10,  2000] loss: 0.776\n",
            "[10,  4000] loss: 0.807\n",
            "[10,  6000] loss: 0.845\n",
            "[10,  8000] loss: 0.853\n",
            "[10, 10000] loss: 0.857\n",
            "[10, 12000] loss: 0.870\n",
            "[11,  2000] loss: 0.744\n",
            "[11,  4000] loss: 0.804\n",
            "[11,  6000] loss: 0.811\n",
            "[11,  8000] loss: 0.822\n",
            "[11, 10000] loss: 0.823\n",
            "[11, 12000] loss: 0.851\n",
            "[12,  2000] loss: 0.745\n",
            "[12,  4000] loss: 0.775\n",
            "[12,  6000] loss: 0.782\n",
            "[12,  8000] loss: 0.778\n",
            "[12, 10000] loss: 0.825\n",
            "[12, 12000] loss: 0.811\n",
            "[13,  2000] loss: 0.690\n",
            "[13,  4000] loss: 0.750\n",
            "[13,  6000] loss: 0.757\n",
            "[13,  8000] loss: 0.774\n",
            "[13, 10000] loss: 0.808\n",
            "[13, 12000] loss: 0.815\n",
            "[14,  2000] loss: 0.691\n",
            "[14,  4000] loss: 0.716\n",
            "[14,  6000] loss: 0.743\n",
            "[14,  8000] loss: 0.755\n",
            "[14, 10000] loss: 0.764\n",
            "[14, 12000] loss: 0.781\n",
            "[15,  2000] loss: 0.665\n",
            "[15,  4000] loss: 0.727\n",
            "[15,  6000] loss: 0.714\n",
            "[15,  8000] loss: 0.748\n",
            "[15, 10000] loss: 0.754\n",
            "[15, 12000] loss: 0.765\n",
            "[16,  2000] loss: 0.650\n",
            "[16,  4000] loss: 0.702\n",
            "[16,  6000] loss: 0.701\n",
            "[16,  8000] loss: 0.737\n",
            "[16, 10000] loss: 0.741\n",
            "[16, 12000] loss: 0.750\n",
            "[17,  2000] loss: 0.648\n",
            "[17,  4000] loss: 0.677\n",
            "[17,  6000] loss: 0.692\n",
            "[17,  8000] loss: 0.695\n",
            "[17, 10000] loss: 0.744\n",
            "[17, 12000] loss: 0.750\n",
            "[18,  2000] loss: 0.624\n",
            "[18,  4000] loss: 0.658\n",
            "[18,  6000] loss: 0.685\n",
            "[18,  8000] loss: 0.694\n",
            "[18, 10000] loss: 0.728\n",
            "[18, 12000] loss: 0.743\n",
            "[19,  2000] loss: 0.581\n",
            "[19,  4000] loss: 0.650\n",
            "[19,  6000] loss: 0.690\n",
            "[19,  8000] loss: 0.714\n",
            "[19, 10000] loss: 0.727\n",
            "[19, 12000] loss: 0.729\n",
            "[20,  2000] loss: 0.594\n",
            "[20,  4000] loss: 0.652\n",
            "[20,  6000] loss: 0.667\n",
            "[20,  8000] loss: 0.707\n",
            "[20, 10000] loss: 0.702\n",
            "[20, 12000] loss: 0.705\n",
            "[21,  2000] loss: 0.595\n",
            "[21,  4000] loss: 0.649\n",
            "[21,  6000] loss: 0.660\n",
            "[21,  8000] loss: 0.676\n",
            "[21, 10000] loss: 0.690\n",
            "[21, 12000] loss: 0.705\n",
            "[22,  2000] loss: 0.595\n",
            "[22,  4000] loss: 0.613\n",
            "[22,  6000] loss: 0.653\n",
            "[22,  8000] loss: 0.682\n",
            "[22, 10000] loss: 0.708\n",
            "[22, 12000] loss: 0.694\n",
            "[23,  2000] loss: 0.579\n",
            "[23,  4000] loss: 0.628\n",
            "[23,  6000] loss: 0.653\n",
            "[23,  8000] loss: 0.682\n",
            "[23, 10000] loss: 0.694\n",
            "[23, 12000] loss: 0.670\n",
            "[24,  2000] loss: 0.575\n",
            "[24,  4000] loss: 0.645\n",
            "[24,  6000] loss: 0.630\n",
            "[24,  8000] loss: 0.654\n",
            "[24, 10000] loss: 0.704\n",
            "[24, 12000] loss: 0.687\n",
            "[25,  2000] loss: 0.576\n",
            "[25,  4000] loss: 0.619\n",
            "[25,  6000] loss: 0.653\n",
            "[25,  8000] loss: 0.649\n",
            "[25, 10000] loss: 0.666\n",
            "[25, 12000] loss: 0.694\n",
            "[26,  2000] loss: 0.545\n",
            "[26,  4000] loss: 0.606\n",
            "[26,  6000] loss: 0.637\n",
            "[26,  8000] loss: 0.668\n",
            "[26, 10000] loss: 0.665\n",
            "[26, 12000] loss: 0.678\n",
            "[27,  2000] loss: 0.559\n",
            "[27,  4000] loss: 0.584\n",
            "[27,  6000] loss: 0.640\n",
            "[27,  8000] loss: 0.651\n",
            "[27, 10000] loss: 0.648\n",
            "[27, 12000] loss: 0.689\n",
            "[28,  2000] loss: 0.567\n",
            "[28,  4000] loss: 0.593\n",
            "[28,  6000] loss: 0.619\n",
            "[28,  8000] loss: 0.640\n",
            "[28, 10000] loss: 0.652\n",
            "[28, 12000] loss: 0.642\n",
            "[29,  2000] loss: 0.558\n",
            "[29,  4000] loss: 0.579\n",
            "[29,  6000] loss: 0.607\n",
            "[29,  8000] loss: 0.623\n",
            "[29, 10000] loss: 0.662\n",
            "[29, 12000] loss: 0.692\n",
            "[30,  2000] loss: 0.540\n",
            "[30,  4000] loss: 0.564\n",
            "[30,  6000] loss: 0.622\n",
            "[30,  8000] loss: 0.654\n",
            "[30, 10000] loss: 0.635\n",
            "[30, 12000] loss: 0.664\n",
            "Finished Training\n"
          ],
          "name": "stdout"
        }
      ]
    },
    {
      "cell_type": "code",
      "metadata": {
        "id": "whRjCYc4ShXr"
      },
      "source": [
        "PATH = './cifar_net.pth'\r\n",
        "torch.save(net.state_dict(), PATH)"
      ],
      "execution_count": 12,
      "outputs": []
    },
    {
      "cell_type": "code",
      "metadata": {
        "id": "CROIHpQHaN0G"
      },
      "source": [
        "#net = Net()\r\n",
        "#net.load_state_dict(torch.load(PATH)) 모델을 불러오는 것"
      ],
      "execution_count": 12,
      "outputs": []
    },
    {
      "cell_type": "code",
      "metadata": {
        "id": "uNOe35N-aWI9"
      },
      "source": [
        "outputs = net(images)"
      ],
      "execution_count": 13,
      "outputs": []
    },
    {
      "cell_type": "code",
      "metadata": {
        "colab": {
          "base_uri": "https://localhost:8080/"
        },
        "id": "uRjObGqkaWK0",
        "outputId": "a7aa79c4-5a8b-4f78-d4ea-c49e5fe68acf"
      },
      "source": [
        "class_correct = list(0. for i in range(10))\r\n",
        "class_total = list(0. for i in range(10))\r\n",
        "with torch.no_grad():\r\n",
        "    for data in testloader:\r\n",
        "        images, labels = data\r\n",
        "        outputs = net(images)\r\n",
        "        _, predicted = torch.max(outputs, 1)\r\n",
        "        c = (predicted == labels).squeeze()\r\n",
        "        for i in range(4):\r\n",
        "            label = labels[i]\r\n",
        "            class_correct[label] += c[i].item()\r\n",
        "            class_total[label] += 1\r\n",
        "\r\n",
        "\r\n",
        "for i in range(10):\r\n",
        "    print('Accuracy of %5s : %2d %%' % (\r\n",
        "        classes[i], 100 * class_correct[i] / class_total[i]))"
      ],
      "execution_count": 14,
      "outputs": [
        {
          "output_type": "stream",
          "text": [
            "Accuracy of plane : 56 %\n",
            "Accuracy of   car : 78 %\n",
            "Accuracy of  bird : 41 %\n",
            "Accuracy of   cat : 41 %\n",
            "Accuracy of  deer : 55 %\n",
            "Accuracy of   dog : 41 %\n",
            "Accuracy of  frog : 70 %\n",
            "Accuracy of horse : 67 %\n",
            "Accuracy of  ship : 74 %\n",
            "Accuracy of truck : 67 %\n"
          ],
          "name": "stdout"
        }
      ]
    },
    {
      "cell_type": "code",
      "metadata": {
        "id": "5ZIQZexmarBy"
      },
      "source": [
        ""
      ],
      "execution_count": 13,
      "outputs": []
    },
    {
      "cell_type": "code",
      "metadata": {
        "id": "_fas4LEFarUl"
      },
      "source": [
        ""
      ],
      "execution_count": null,
      "outputs": []
    }
  ]
}
